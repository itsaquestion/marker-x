{
 "cells": [
  {
   "cell_type": "code",
   "execution_count": 3,
   "metadata": {},
   "outputs": [],
   "source": [
    "# 打分用\n",
    "import openai\n",
    "\n",
    "openai.api_key =  'sk-1234'\n",
    "openai.api_base = \"http://127.0.0.1:5000/api/v1\"\n"
   ]
  },
  {
   "cell_type": "code",
   "execution_count": null,
   "metadata": {},
   "outputs": [],
   "source": [
    "\n",
    "def gen(system_msg, user_msg, temp=0.2,  show=True, model='gpt-3.5-turbo'):\n",
    "    \"\"\"\n",
    "    用openrouter的api和LLM对话。\n",
    "    \"\"\"\n",
    "    response = openai.ChatCompletion.create(model=model,\n",
    "                                            messages=[{\"role\": \"system\", \"content\": system_msg},\n",
    "                                                      {\"role\": \"user\", \"content\": user_msg}],\n",
    "                                            headers={\"HTTP-Referer\": 'https://py4ss.net',  # To identify your app\n",
    "                                                     \"X-Title\": 'FollowChat2'},\n",
    "                                            max_tokens=2048,\n",
    "                                            stream=True, temperature=temp)\n",
    "    collected_messages = []\n",
    "    for chunk in response:\n",
    "        content = chunk[\"choices\"][0].get(  # type: ignore\n",
    "            \"delta\", {}).get(\"content\")  # type: ignore\n",
    "        if content is not None:\n",
    "            collected_messages.append(content)\n",
    "            if show:\n",
    "                print(content, end='', flush=True)\n",
    "\n",
    "    full_message = ''.join(collected_messages)\n",
    "\n",
    "    return full_message"
   ]
  }
 ],
 "metadata": {
  "kernelspec": {
   "display_name": "venv",
   "language": "python",
   "name": "python3"
  },
  "language_info": {
   "codemirror_mode": {
    "name": "ipython",
    "version": 3
   },
   "file_extension": ".py",
   "mimetype": "text/x-python",
   "name": "python",
   "nbconvert_exporter": "python",
   "pygments_lexer": "ipython3",
   "version": "3.11.5"
  }
 },
 "nbformat": 4,
 "nbformat_minor": 2
}
