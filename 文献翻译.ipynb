{
 "cells": [
  {
   "cell_type": "code",
   "execution_count": 1,
   "metadata": {},
   "outputs": [],
   "source": [
    "from openai import OpenAI\n",
    "from tqdm import tqdm\n",
    "import os\n",
    "\n",
    "os.environ['HTTP_PROXY'] = 'http://127.0.0.1:5035'\n",
    "os.environ['HTTPS_PROXY'] = 'http://127.0.0.1:5035'\n",
    "\n",
    "client = OpenAI(\n",
    "  base_url=\"https://openrouter.ai/api/v1\",\n",
    "  api_key=\"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\"\n",
    ")\n"
   ]
  },
  {
   "cell_type": "code",
   "execution_count": 2,
   "metadata": {},
   "outputs": [
    {
     "name": "stdout",
     "output_type": "stream",
     "text": [
      "1. apple: fruit\n",
      "2. carrot: vegetable\n",
      "3. chicken: meat\n"
     ]
    }
   ],
   "source": [
    "def dict_to_string(d):\n",
    "    \"\"\"将字典转换为特定格式的字符串。\n",
    "\n",
    "    参数:\n",
    "    d (dict): 要转换的字典。\n",
    "\n",
    "    返回:\n",
    "    str: 转换后的字符串。\n",
    "    \"\"\"\n",
    "    return '\\n'.join(f\"{i + 1}. {k}: {v}\" for i, (k, v) in enumerate(d.items()))\n",
    "\n",
    "# 示例使用\n",
    "my_dict = {'apple': 'fruit', 'carrot': 'vegetable', 'chicken': 'meat'}\n",
    "formatted_string = dict_to_string(my_dict)\n",
    "print(formatted_string)"
   ]
  },
  {
   "cell_type": "code",
   "execution_count": 3,
   "metadata": {},
   "outputs": [],
   "source": [
    "def translate(text,vocab = {}, temperature=0.2, show = True):\n",
    "\n",
    "    system_prompt = f\"\"\"\n",
    "    - 你是一个世界级专业翻译家，你会准确、完整、流畅地翻译用户给你的文本。\n",
    "- 你的专业领域是经济学和商业，你参与过WSJ和经济学人等专业财经杂志的翻译工作。\n",
    "- 如果你做得好，我会给你$1000小费。\n",
    "- 现在是5月，一年中生产力最高的时间。\n",
    "- 用户会给你经济学的学术论文，你也采用经济学学术论文的风格进行翻译。\n",
    "- 不要写“注”。\n",
    "- 采用以下术语表:\n",
    "{dict_to_string(vocab)}\n",
    "- 严格忠实于原文，不要总结，只输出翻译结果。\n",
    "    \"\"\".strip()\n",
    "\n",
    "    example =\"\"\"去年,中国汽车海外销量激增,创下历史新高。\"\"\"\n",
    "\n",
    "    stream = client.chat.completions.create(\n",
    "        extra_headers={\n",
    "            \"HTTP-Referer\": \"py4ss.net\", # Optional, for including your app on openrouter.ai rankings.\n",
    "            \"X-Title\": 'transltion', # Optional. Shows in rankings on openrouter.ai.\n",
    "        },\n",
    "        model=\"openai/gpt-3.5-turbo\",\n",
    "        messages=[\n",
    "        {\"role\": \"system\", \"content\": system_prompt},\n",
    "        {\"role\": \"user\", \"content\": \"China’s overseas auto sales surged to a record last year.\"},\n",
    "        {\"role\": \"assistant\", \"content\": example},\n",
    "        {\"role\": \"user\", \"content\": text}],\n",
    "        stream=True,\n",
    "        temperature=temperature,\n",
    "        frequency_penalty=0.8\n",
    "    )\n",
    "\n",
    "    result = ''\n",
    "\n",
    "    for chunk in stream:\n",
    "        if chunk.choices[0].delta.content is not None:\n",
    "            if show: print(chunk.choices[0].delta.content, end=\"\")\n",
    "            result += chunk.choices[0].delta.content\n",
    "\n",
    "    return result\n",
    "\n",
    "vocab = {'agent':'主体',\n",
    "        'agent-based':'基于主体的',\n",
    "        'multi-agent':'多主体',\n",
    "        'actor':'主体',\n",
    "        'mas':'多主体系统',\n",
    "        'game': '博弈',\n",
    "        'tick': '时间步'}\n"
   ]
  },
  {
   "cell_type": "code",
   "execution_count": 4,
   "metadata": {},
   "outputs": [
    {
     "name": "stdout",
     "output_type": "stream",
     "text": [
      "原文:\n",
      "adsf\n",
      "\n",
      "译文:\n",
      "中文\n",
      "\n",
      "对上述中文译文进行重写，使其更为流畅，但保持准确性和学术风格。\n",
      "直接输出重写后的中文内容，不要输出其他信息:\n"
     ]
    }
   ],
   "source": [
    "def rewriter_prompt(text1,text2):\n",
    "    return f\"\"\"原文:\n",
    "{text1}\n",
    "\n",
    "译文:\n",
    "{text2}\n",
    "\n",
    "对上述中文译文进行重写，使其更为流畅，但保持准确性和学术风格。\n",
    "直接输出重写后的中文内容，不要输出其他信息:\"\"\"\n",
    "\n",
    "print(rewriter_prompt('adsf','中文'))\n"
   ]
  },
  {
   "cell_type": "code",
   "execution_count": 5,
   "metadata": {},
   "outputs": [
    {
     "name": "stdout",
     "output_type": "stream",
     "text": [
      "本文旨在构建一个计算经济模型，以模拟法国劳动力市场的条件，并研究引入一种新的工作合同可能导致的市场变化。我们打算充分利用多主体系统（MAS）提供的工具，即由自治且相互强烈交互的人工主体组成的系统，将经济模型转化为基于主体的模型。经济模型主要通过微分方程描述，而在多主体模型中，每个主体都是独立的实体，不断与其他主体和环境进行交互。这一转换分为两个阶段进行。首先，我们确定了模型中的主要参与者。每个参与者都有自己的主要角色和行为方式（方法）。这些行为方式为模拟引入了动态效应。然后，我们整合了经济模型中参与者决策过程中所涉及的计算机制。"
     ]
    },
    {
     "data": {
      "text/plain": [
       "'本文旨在构建一个计算经济模型，以模拟法国劳动力市场的条件，并研究引入一种新的工作合同可能导致的市场变化。我们打算充分利用多主体系统（MAS）提供的工具，即由自治且相互强烈交互的人工主体组成的系统，将经济模型转化为基于主体的模型。经济模型主要通过微分方程描述，而在多主体模型中，每个主体都是独立的实体，不断与其他主体和环境进行交互。这一转换分为两个阶段进行。首先，我们确定了模型中的主要参与者。每个参与者都有自己的主要角色和行为方式（方法）。这些行为方式为模拟引入了动态效应。然后，我们整合了经济模型中参与者决策过程中所涉及的计算机制。'"
      ]
     },
     "execution_count": 5,
     "metadata": {},
     "output_type": "execute_result"
    }
   ],
   "source": [
    "def rewriter(text,vocab = {}, temperature=0.4, show = True):\n",
    "\n",
    "    system_prompt = f\"\"\"\n",
    "    - 你是一个世界级中英文期刊的编辑，你会对翻译后的文本进行重写。\n",
    "- 你的专业领域是经济学和商业，你参与过WSJ和经济学人等专业财经杂志的编辑工作。\n",
    "- 如果你做得好，我会给你$1000小费。\n",
    "- 现在是5月，一年中生产力最高的时间。\n",
    "- 用户会给你经济学的学术论文，你也采用经济学学术论文的风格。\n",
    "- 采用以下术语表:\n",
    "{dict_to_string(vocab)}\n",
    "- 保留原文所有内容，只输出重写结果。\n",
    "    \"\"\".strip()\n",
    "\n",
    "    example_user_msg = \"\"\"原文:\n",
    "China’s overseas auto sales surged to a record last year.\n",
    "\n",
    "译文:\n",
    "中国海外汽车销售量去年激增至创纪录水平。\n",
    "\n",
    "[参考原文，对上述中文译文进行重写:]\"\"\"\n",
    "\n",
    "    example_output =\"\"\"去年,中国汽车海外销量激增,创下历史新高。\"\"\"\n",
    "\n",
    "    stream = client.chat.completions.create(\n",
    "        extra_headers={\n",
    "            \"HTTP-Referer\": \"py4ss.net\", # Optional, for including your app on openrouter.ai rankings.\n",
    "            \"X-Title\": 'transltion', # Optional. Shows in rankings on openrouter.ai.\n",
    "        },\n",
    "        model=\"openai/gpt-3.5-turbo\",\n",
    "        messages=[\n",
    "        {\"role\": \"system\", \"content\": system_prompt},\n",
    "        {\"role\": \"user\", \"content\": example_user_msg},\n",
    "        {\"role\": \"assistant\", \"content\": example_output},\n",
    "        {\"role\": \"user\", \"content\": text}],\n",
    "        stream=True,\n",
    "        temperature=temperature,\n",
    "        frequency_penalty=0.5\n",
    "    )\n",
    "\n",
    "    result = ''\n",
    "\n",
    "    for chunk in stream:\n",
    "        if chunk.choices[0].delta.content is not None:\n",
    "            if show: print(chunk.choices[0].delta.content, end=\"\")\n",
    "            result += chunk.choices[0].delta.content\n",
    "\n",
    "    return result\n",
    "\n",
    "\n",
    "prompt = \"\"\"原文:\n",
    "In this paper, we aim to build a computational economic model that imitates the conditions of the French labor market in order to study the possible changes in the market, due to the introduction of a new type of a job contract. We intend to take judicious advantage of the tools provided by multi-agent systems (MAS), i.e. systems made of artificial agents that are autonomous and in strong interaction with each other,1 in order to translate an economic model to an agent-based one. The economic model is mainly described by differential equations, whereas in a multi-agent model each agent is an independent entity, constantly interacting with other agents and the environment. This transposition was elaborated in two phases. We started by identifying the main actors in the model. Each actor has his/her own main role, and his/her own behaviors (methods). These behaviors introduce the dynamics to the simulation. We have afterwards integrated the calculation mechanisms of the economic model, which take part in the decision processes of the agents.\n",
    "\n",
    "译文:\n",
    "本文旨在建立一个计算经济学模型，模拟法国劳动力市场的条件，以研究由于引入一种新的劳动合同而可能引起的市场变化。我们打算利用多主体系统（MAS）提供的工具，即由自治的人工主体组成，彼此之间有强烈互动的系统，将经济模型转换为基于主体的模型。经济模型主要由微分方程描述，而在多主体模型中，每个主体都是一个独立的实体，不断与其他主体和环境互动。这种转换分为两个阶段。我们首先确定了模型中的主要参与者。每个参与者都有自己的主要角色和自己的行为（方法）。这些行为为模拟引入了动态。之后，我们整合了经济模型的计算机制，这些机制参与主体的决策过程。\n",
    "\n",
    "[参考原文，对上述中文译文进行重写:]\"\"\"\n",
    "\n",
    "rewriter(prompt)\n"
   ]
  },
  {
   "cell_type": "code",
   "execution_count": 6,
   "metadata": {},
   "outputs": [
    {
     "name": "stdout",
     "output_type": "stream",
     "text": [
      "本文旨在构建一个计算经济模型，以模拟法国劳动市场的条件，以研究由于引入新型的工作合同而可能发生的市场变化。我们打算充分利用多主体系统（MAS）提供的工具，即由人工智能代理组成、相互自治且强烈互动的系统，将经济模型转化为基于代理的模型。经济模型主要通过微分方程描述，而在多主体模型中，每个代理是一个独立实体，与其他代理和环境不断互动。\n",
      "\n",
      "\n",
      "本文旨在构建一个计算经济模型，以模拟法国劳动市场的条件，以研究由于引入新型的工作合同而可能发生的市场变化。我们打算充分利用多主体系统（MAS）提供的工具，即由人工智能代理组成、相互自治且强烈互动的系统，将经济模型转化为基于代理的模型。经济模型主要通过微分方程描述，而在多主体模型中，每个代理是一个独立实体，与其他代理和环境不断互动。\n"
     ]
    }
   ],
   "source": [
    "text = \"\"\"In this paper, we aim to build a computational economic model that imitates the conditions of the French labor market in order to study the possible changes in the market, due to the introduction of a new type of a job contract. We intend to take judicious advantage of the tools provided by multi-agent systems (MAS), i.e. systems made of artificial agents that are autonomous and in strong interaction with each other,1 in order to translate an economic model to an agent-based one. The economic model is mainly described by differential equations, whereas in a multi-agent model each agent is an independent entity, constantly interacting with other agents and the environment. \"\"\"\n",
    "\n",
    "#text = \"\"\"word\"\"\"\n",
    "result = translate(text,\n",
    "                   vocab = vocab,\n",
    "                   temperature=0.7)\n",
    "print('\\n\\n')\n",
    "print(result)"
   ]
  },
  {
   "cell_type": "code",
   "execution_count": 7,
   "metadata": {},
   "outputs": [],
   "source": [
    "def pre_process(text):\n",
    "    return text.lstrip('# ').lstrip('#')\n",
    "\n",
    "def after_process(text):\n",
    "    text = text.replace('代理人','主体').replace('代理商','主体').replace('代理','主体').replace('智能体','主体').replace('<直译版>','').split('### Human')[0].strip()\n",
    "    text = text.replace('演员','主体')\n",
    "    return text\n",
    "\n",
    "\n",
    "def translate_paper(input_file,output_file):\n",
    "\n",
    "    with open(input_file,'r') as f:\n",
    "        text = f.read()\n",
    "\n",
    "    text = text.split('## References')[0]\n",
    "\n",
    "    text_splitted = text.split('\\n\\n')\n",
    "\n",
    "    text_splitted[:3]\n",
    "\n",
    "    result = ''\n",
    "\n",
    "    for sub_text in tqdm(text_splitted):\n",
    "        # print('原文:' + sub_text)\n",
    "\n",
    "        trans_text = ''\n",
    "\n",
    "        if len(sub_text.strip()) == 0:\n",
    "            continue\n",
    "        if sub_text.strip()[0] != \"#\":\n",
    "\n",
    "            sub_text_fix = pre_process(sub_text)\n",
    "\n",
    "            text_to_trans = f\"\"\"前文和前文翻译:\n",
    "    ...\n",
    "    {result[-400:]}\n",
    "\n",
    "    把下文翻译成中文，只输出译文:\n",
    "    {sub_text_fix}\"\"\"\n",
    "\n",
    "            #print(\"=\"*30,'\\n',text_to_trans)\n",
    "\n",
    "            trans_text = translate(text_to_trans, vocab = vocab, temperature=0.1,show=False)\n",
    "\n",
    "            if len(trans_text) > 100:\n",
    "                #print('[重写]')\n",
    "                trans_text = rewriter(rewriter_prompt(sub_text_fix,trans_text),temperature=0.2,show=False)\n",
    "\n",
    "            trans_text = after_process(trans_text)\n",
    "        \n",
    "        # print(trans_text)\n",
    "        result += sub_text + \"\\n\\n\"\n",
    "        \n",
    "        result += trans_text + \"\\n\\n\"\n",
    "\n",
    "        with open(output_file,'w') as f:\n",
    "            f.write(result)"
   ]
  },
  {
   "cell_type": "code",
   "execution_count": null,
   "metadata": {},
   "outputs": [],
   "source": []
  },
  {
   "cell_type": "code",
   "execution_count": 11,
   "metadata": {},
   "outputs": [
    {
     "data": {
      "text/plain": [
       "['Sanchez-Cartas 和 León - 2021 - Multisided Platforms and Markets A Survey of the .md',\n",
       " 'Jullien, Sand-Zantman - 2021 - The Economics of Platforms A Theory Guide for Competition Policy.md',\n",
       " 'Sanchez-Cartas - 2018 - Agent-based models and industrial organization theory. A price-competition algorithm for agent-based models base.md',\n",
       " 'Jullien 等 - 2021 - Two-sided markets, pricing, and network effects.md',\n",
       " 'Rysman - 2009 - The economics of two-sided markets.md']"
      ]
     },
     "execution_count": 11,
     "metadata": {},
     "output_type": "execute_result"
    }
   ],
   "source": [
    "input_dir = 'platform_mds'\n",
    "output_dir = 'platform_mds_tran'\n",
    "\n",
    "md_files = [x for x in os.listdir(input_dir) if x[-2:]=='md']\n",
    "md_files\n",
    "\n"
   ]
  },
  {
   "cell_type": "code",
   "execution_count": 12,
   "metadata": {},
   "outputs": [
    {
     "name": "stdout",
     "output_type": "stream",
     "text": [
      "1/5\n",
      "Sanchez-Cartas 和 León - 2021 - Multisided Platforms and Markets A Survey of the .md\n"
     ]
    },
    {
     "name": "stderr",
     "output_type": "stream",
     "text": [
      "100%|██████████| 137/137 [36:21<00:00, 15.92s/it]\n"
     ]
    },
    {
     "name": "stdout",
     "output_type": "stream",
     "text": [
      "2/5\n",
      "Jullien, Sand-Zantman - 2021 - The Economics of Platforms A Theory Guide for Competition Policy.md\n"
     ]
    },
    {
     "name": "stderr",
     "output_type": "stream",
     "text": [
      "100%|██████████| 116/116 [29:36<00:00, 15.31s/it]\n"
     ]
    },
    {
     "name": "stdout",
     "output_type": "stream",
     "text": [
      "3/5\n",
      "Sanchez-Cartas - 2018 - Agent-based models and industrial organization theory. A price-competition algorithm for agent-based models base.md\n"
     ]
    },
    {
     "name": "stderr",
     "output_type": "stream",
     "text": [
      "100%|██████████| 108/108 [20:54<00:00, 11.62s/it]\n"
     ]
    },
    {
     "name": "stdout",
     "output_type": "stream",
     "text": [
      "4/5\n",
      "Jullien 等 - 2021 - Two-sided markets, pricing, and network effects.md\n"
     ]
    },
    {
     "name": "stderr",
     "output_type": "stream",
     "text": [
      "100%|██████████| 516/516 [1:41:41<00:00, 11.82s/it]  \n"
     ]
    },
    {
     "name": "stdout",
     "output_type": "stream",
     "text": [
      "5/5\n",
      "Rysman - 2009 - The economics of two-sided markets.md\n"
     ]
    },
    {
     "name": "stderr",
     "output_type": "stream",
     "text": [
      "100%|██████████| 61/61 [16:16<00:00, 16.00s/it]\n"
     ]
    }
   ],
   "source": [
    "\n",
    "counter = 1\n",
    "for md_file in md_files:\n",
    "    print(str(counter) + '/' + str(len(md_files)))\n",
    "\n",
    "    input_file = input_dir + '/' + md_file\n",
    "    print(md_file)\n",
    "    output_file = output_dir +'/' + md_file\n",
    "    translate_paper(input_file, output_file)\n",
    "    counter += 1\n"
   ]
  }
 ],
 "metadata": {
  "kernelspec": {
   "display_name": "marker",
   "language": "python",
   "name": "python3"
  },
  "language_info": {
   "codemirror_mode": {
    "name": "ipython",
    "version": 3
   },
   "file_extension": ".py",
   "mimetype": "text/x-python",
   "name": "python",
   "nbconvert_exporter": "python",
   "pygments_lexer": "ipython3",
   "version": "3.11.7"
  }
 },
 "nbformat": 4,
 "nbformat_minor": 2
}
